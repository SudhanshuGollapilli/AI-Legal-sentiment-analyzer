{
  "nbformat": 4,
  "nbformat_minor": 0,
  "metadata": {
    "colab": {
      "provenance": [],
      "gpuType": "T4",
      "include_colab_link": true
    },
    "kernelspec": {
      "name": "python3",
      "display_name": "Python 3"
    },
    "language_info": {
      "name": "python"
    },
    "accelerator": "GPU"
  },
  "cells": [
    {
      "cell_type": "markdown",
      "metadata": {
        "id": "view-in-github",
        "colab_type": "text"
      },
      "source": [
        "<a href=\"https://colab.research.google.com/github/SudhanshuGollapilli/AI-Legal-sentiment-analyzer/blob/main/AI_Legal_Sentiment_Analyzer_final.ipynb\" target=\"_parent\"><img src=\"https://colab.research.google.com/assets/colab-badge.svg\" alt=\"Open In Colab\"/></a>"
      ]
    },
    {
      "cell_type": "code",
      "execution_count": null,
      "metadata": {
        "colab": {
          "base_uri": "https://localhost:8080/"
        },
        "id": "76LE2tWVt_cA",
        "outputId": "8ddb90a5-85a5-4b0f-f747-7a07e35c398b"
      },
      "outputs": [
        {
          "output_type": "stream",
          "name": "stdout",
          "text": [
            "\u001b[2K     \u001b[90m━━━━━━━━━━━━━━━━━━━━━━━━━━━━━━━━━━━━━━━\u001b[0m \u001b[32m110.0/110.0 kB\u001b[0m \u001b[31m7.6 MB/s\u001b[0m eta \u001b[36m0:00:00\u001b[0m\n",
            "\u001b[2K   \u001b[90m━━━━━━━━━━━━━━━━━━━━━━━━━━━━━━━━━━━━━━━━\u001b[0m \u001b[32m7.0/7.0 MB\u001b[0m \u001b[31m79.2 MB/s\u001b[0m eta \u001b[36m0:00:00\u001b[0m\n",
            "\u001b[2K   \u001b[90m━━━━━━━━━━━━━━━━━━━━━━━━━━━━━━━━━━━━━━━━\u001b[0m \u001b[32m363.4/363.4 MB\u001b[0m \u001b[31m3.9 MB/s\u001b[0m eta \u001b[36m0:00:00\u001b[0m\n",
            "\u001b[2K   \u001b[90m━━━━━━━━━━━━━━━━━━━━━━━━━━━━━━━━━━━━━━━━\u001b[0m \u001b[32m13.8/13.8 MB\u001b[0m \u001b[31m59.5 MB/s\u001b[0m eta \u001b[36m0:00:00\u001b[0m\n",
            "\u001b[2K   \u001b[90m━━━━━━━━━━━━━━━━━━━━━━━━━━━━━━━━━━━━━━━━\u001b[0m \u001b[32m24.6/24.6 MB\u001b[0m \u001b[31m47.4 MB/s\u001b[0m eta \u001b[36m0:00:00\u001b[0m\n",
            "\u001b[2K   \u001b[90m━━━━━━━━━━━━━━━━━━━━━━━━━━━━━━━━━━━━━━━━\u001b[0m \u001b[32m883.7/883.7 kB\u001b[0m \u001b[31m35.7 MB/s\u001b[0m eta \u001b[36m0:00:00\u001b[0m\n",
            "\u001b[2K   \u001b[90m━━━━━━━━━━━━━━━━━━━━━━━━━━━━━━━━━━━━━━━━\u001b[0m \u001b[32m664.8/664.8 MB\u001b[0m \u001b[31m2.0 MB/s\u001b[0m eta \u001b[36m0:00:00\u001b[0m\n",
            "\u001b[2K   \u001b[90m━━━━━━━━━━━━━━━━━━━━━━━━━━━━━━━━━━━━━━━━\u001b[0m \u001b[32m211.5/211.5 MB\u001b[0m \u001b[31m2.7 MB/s\u001b[0m eta \u001b[36m0:00:00\u001b[0m\n",
            "\u001b[2K   \u001b[90m━━━━━━━━━━━━━━━━━━━━━━━━━━━━━━━━━━━━━━━━\u001b[0m \u001b[32m56.3/56.3 MB\u001b[0m \u001b[31m13.8 MB/s\u001b[0m eta \u001b[36m0:00:00\u001b[0m\n",
            "\u001b[2K   \u001b[90m━━━━━━━━━━━━━━━━━━━━━━━━━━━━━━━━━━━━━━━━\u001b[0m \u001b[32m127.9/127.9 MB\u001b[0m \u001b[31m8.3 MB/s\u001b[0m eta \u001b[36m0:00:00\u001b[0m\n",
            "\u001b[2K   \u001b[90m━━━━━━━━━━━━━━━━━━━━━━━━━━━━━━━━━━━━━━━━\u001b[0m \u001b[32m207.5/207.5 MB\u001b[0m \u001b[31m6.9 MB/s\u001b[0m eta \u001b[36m0:00:00\u001b[0m\n",
            "\u001b[2K   \u001b[90m━━━━━━━━━━━━━━━━━━━━━━━━━━━━━━━━━━━━━━━━\u001b[0m \u001b[32m21.1/21.1 MB\u001b[0m \u001b[31m31.7 MB/s\u001b[0m eta \u001b[36m0:00:00\u001b[0m\n",
            "\u001b[2K   \u001b[90m━━━━━━━━━━━━━━━━━━━━━━━━━━━━━━━━━━━━━━━━\u001b[0m \u001b[32m7.8/7.8 MB\u001b[0m \u001b[31m62.5 MB/s\u001b[0m eta \u001b[36m0:00:00\u001b[0m\n",
            "\u001b[?25h\u001b[31mERROR: pip's dependency resolver does not currently take into account all the packages that are installed. This behaviour is the source of the following dependency conflicts.\n",
            "sentence-transformers 4.1.0 requires transformers<5.0.0,>=4.41.0, but you have transformers 4.28.1 which is incompatible.\u001b[0m\u001b[31m\n",
            "\u001b[0m✅ Packages installed\n"
          ]
        }
      ],
      "source": [
        "!pip install transformers==4.28.1 pandas numpy torch tqdm -q\n",
        "print(\"✅ Packages installed\")"
      ]
    },
    {
      "cell_type": "code",
      "source": [
        "import pandas as pd\n",
        "import numpy as np\n",
        "from google.colab import files\n",
        "import io\n",
        "\n",
        "uploaded = files.upload()\n",
        "real_texts = []\n",
        "for filename in uploaded.keys():\n",
        "    with io.open(filename, 'r', encoding='utf-8') as f:\n",
        "        real_texts.append(f.read())\n",
        "\n",
        "\n",
        "if real_texts:\n",
        "    df = pd.DataFrame({\"text\": real_texts})\n",
        "    print(\"📁 Using uploaded files\")\n",
        "else:\n",
        "    print(\"🧪 Using synthetic data\")\n",
        "\n",
        "    # Templates\n",
        "    templates = {\n",
        "        \"positive\": [\n",
        "            \"In {case}, the court ruled in favor of {party}, stating {reason}.\",\n",
        "            \"The settlement agreement was approved, granting {relief} to {party}.\",\n",
        "            \"The appellate court affirmed the judgment for {party} in {case}.\",\n",
        "            \"{party} prevailed on all counts in the {court_type} decision.\",\n",
        "            \"The jury awarded {party} {damages} in {case}.\",\n",
        "            \"The motion for {relief} was granted to {party}.\"\n",
        "        ],\n",
        "        \"negative\": [\n",
        "            \"The court denied {party}'s motion to {motion} due to {reason}.\",\n",
        "            \"{party} was found liable for {violation} and ordered to pay {penalty}.\",\n",
        "            \"The Supreme Court reversed the decision in {case}, ruling against {party}.\",\n",
        "            \"{party}'s appeal was dismissed with prejudice.\",\n",
        "            \"The complaint filed by {party} was dismissed without prejudice.\",\n",
        "            \"Summary judgment was entered against {party} in {case}.\"\n",
        "        ],\n",
        "        \"neutral\": [\n",
        "            \"The hearing regarding {case} was adjourned until {date}.\",\n",
        "            \"Documents were filed in {case} concerning {matter}.\",\n",
        "            \"The court ordered supplemental briefing on {issue}.\",\n",
        "            \"Amicus briefs were submitted in {case} by {organization}.\",\n",
        "            \"The {court_type} heard oral arguments in {case} today.\",\n",
        "            \"The parties in {case} stipulated to extend deadlines.\"\n",
        "        ]\n",
        "    }\n",
        "\n",
        "\n",
        "    placeholder_values = {\n",
        "        \"case\": [f\"Case No. 2024-{x}\" for x in range(1000, 9999)],\n",
        "        \"party\": [\"the plaintiff\", \"the defendant\", \"the appellant\", \"the respondent\"],\n",
        "        \"reason\": [\"clear precedent\", \"procedural error\", \"factual insufficiency\", \"legal grounds\"],\n",
        "        \"relief\": [\"damages\", \"injunctive relief\", \"specific performance\", \"attorney's fees\"],\n",
        "        \"court_type\": [\"district court\", \"circuit court\", \"bankruptcy court\"],\n",
        "        \"damages\": [\"$100,000\", \"$1.2 million\", \"nominal damages\"],\n",
        "        \"motion\": [\"dismiss\", \"suppress evidence\", \"summary judgment\"],\n",
        "        \"violation\": [\"breach of contract\", \"negligence\", \"fraud\"],\n",
        "        \"penalty\": [\"$5,000\", \"$250,000\", \"$1 million\"],\n",
        "        \"date\": [f\"{d}/06/2024\" for d in np.random.randint(1, 30, 10)],\n",
        "        \"matter\": [\"jurisdiction\", \"discovery\", \"standing\"],\n",
        "        \"issue\": [\"constitutional interpretation\", \"statutory construction\"],\n",
        "        \"organization\": [\"ACLU\", \"US Chamber of Commerce\", \"NAACP\"]\n",
        "    }\n",
        "\n",
        "\n",
        "    np.random.seed(42)\n",
        "    data = []\n",
        "    for _ in range(500):\n",
        "        sentiment = np.random.choice([\"positive\", \"negative\", \"neutral\"])\n",
        "        template = np.random.choice(templates[sentiment])\n",
        "        doc = template\n",
        "        while \"{\" in doc:\n",
        "            start = doc.find(\"{\")\n",
        "            end = doc.find(\"}\")\n",
        "            placeholder = doc[start+1:end]\n",
        "            doc = doc[:start] + np.random.choice(placeholder_values[placeholder]) + doc[end+1:]\n",
        "        data.append({\"text\": doc, \"true_sentiment\": sentiment})\n",
        "\n",
        "\n",
        "    unique_texts = set()\n",
        "    clean_data = []\n",
        "    for d in data:\n",
        "        text = d[\"text\"]\n",
        "        if len(text) > 50 and text not in unique_texts and any(c.isupper() for c in text):\n",
        "            unique_texts.add(text)\n",
        "            clean_data.append(d)\n",
        "\n",
        "    df = pd.DataFrame(clean_data)\n",
        "    print(f\"✅ Generated {len(df)} legal documents (expanded dataset)\")"
      ],
      "metadata": {
        "colab": {
          "base_uri": "https://localhost:8080/",
          "height": 71
        },
        "id": "eEFuu9dvuHH6",
        "outputId": "e8441d24-6927-45f2-aea9-7db8260fb910"
      },
      "execution_count": null,
      "outputs": [
        {
          "output_type": "display_data",
          "data": {
            "text/plain": [
              "<IPython.core.display.HTML object>"
            ],
            "text/html": [
              "\n",
              "     <input type=\"file\" id=\"files-d0231289-8369-4cdb-a87f-eecf756998b2\" name=\"files[]\" multiple disabled\n",
              "        style=\"border:none\" />\n",
              "     <output id=\"result-d0231289-8369-4cdb-a87f-eecf756998b2\">\n",
              "      Upload widget is only available when the cell has been executed in the\n",
              "      current browser session. Please rerun this cell to enable.\n",
              "      </output>\n",
              "      <script>// Copyright 2017 Google LLC\n",
              "//\n",
              "// Licensed under the Apache License, Version 2.0 (the \"License\");\n",
              "// you may not use this file except in compliance with the License.\n",
              "// You may obtain a copy of the License at\n",
              "//\n",
              "//      http://www.apache.org/licenses/LICENSE-2.0\n",
              "//\n",
              "// Unless required by applicable law or agreed to in writing, software\n",
              "// distributed under the License is distributed on an \"AS IS\" BASIS,\n",
              "// WITHOUT WARRANTIES OR CONDITIONS OF ANY KIND, either express or implied.\n",
              "// See the License for the specific language governing permissions and\n",
              "// limitations under the License.\n",
              "\n",
              "/**\n",
              " * @fileoverview Helpers for google.colab Python module.\n",
              " */\n",
              "(function(scope) {\n",
              "function span(text, styleAttributes = {}) {\n",
              "  const element = document.createElement('span');\n",
              "  element.textContent = text;\n",
              "  for (const key of Object.keys(styleAttributes)) {\n",
              "    element.style[key] = styleAttributes[key];\n",
              "  }\n",
              "  return element;\n",
              "}\n",
              "\n",
              "// Max number of bytes which will be uploaded at a time.\n",
              "const MAX_PAYLOAD_SIZE = 100 * 1024;\n",
              "\n",
              "function _uploadFiles(inputId, outputId) {\n",
              "  const steps = uploadFilesStep(inputId, outputId);\n",
              "  const outputElement = document.getElementById(outputId);\n",
              "  // Cache steps on the outputElement to make it available for the next call\n",
              "  // to uploadFilesContinue from Python.\n",
              "  outputElement.steps = steps;\n",
              "\n",
              "  return _uploadFilesContinue(outputId);\n",
              "}\n",
              "\n",
              "// This is roughly an async generator (not supported in the browser yet),\n",
              "// where there are multiple asynchronous steps and the Python side is going\n",
              "// to poll for completion of each step.\n",
              "// This uses a Promise to block the python side on completion of each step,\n",
              "// then passes the result of the previous step as the input to the next step.\n",
              "function _uploadFilesContinue(outputId) {\n",
              "  const outputElement = document.getElementById(outputId);\n",
              "  const steps = outputElement.steps;\n",
              "\n",
              "  const next = steps.next(outputElement.lastPromiseValue);\n",
              "  return Promise.resolve(next.value.promise).then((value) => {\n",
              "    // Cache the last promise value to make it available to the next\n",
              "    // step of the generator.\n",
              "    outputElement.lastPromiseValue = value;\n",
              "    return next.value.response;\n",
              "  });\n",
              "}\n",
              "\n",
              "/**\n",
              " * Generator function which is called between each async step of the upload\n",
              " * process.\n",
              " * @param {string} inputId Element ID of the input file picker element.\n",
              " * @param {string} outputId Element ID of the output display.\n",
              " * @return {!Iterable<!Object>} Iterable of next steps.\n",
              " */\n",
              "function* uploadFilesStep(inputId, outputId) {\n",
              "  const inputElement = document.getElementById(inputId);\n",
              "  inputElement.disabled = false;\n",
              "\n",
              "  const outputElement = document.getElementById(outputId);\n",
              "  outputElement.innerHTML = '';\n",
              "\n",
              "  const pickedPromise = new Promise((resolve) => {\n",
              "    inputElement.addEventListener('change', (e) => {\n",
              "      resolve(e.target.files);\n",
              "    });\n",
              "  });\n",
              "\n",
              "  const cancel = document.createElement('button');\n",
              "  inputElement.parentElement.appendChild(cancel);\n",
              "  cancel.textContent = 'Cancel upload';\n",
              "  const cancelPromise = new Promise((resolve) => {\n",
              "    cancel.onclick = () => {\n",
              "      resolve(null);\n",
              "    };\n",
              "  });\n",
              "\n",
              "  // Wait for the user to pick the files.\n",
              "  const files = yield {\n",
              "    promise: Promise.race([pickedPromise, cancelPromise]),\n",
              "    response: {\n",
              "      action: 'starting',\n",
              "    }\n",
              "  };\n",
              "\n",
              "  cancel.remove();\n",
              "\n",
              "  // Disable the input element since further picks are not allowed.\n",
              "  inputElement.disabled = true;\n",
              "\n",
              "  if (!files) {\n",
              "    return {\n",
              "      response: {\n",
              "        action: 'complete',\n",
              "      }\n",
              "    };\n",
              "  }\n",
              "\n",
              "  for (const file of files) {\n",
              "    const li = document.createElement('li');\n",
              "    li.append(span(file.name, {fontWeight: 'bold'}));\n",
              "    li.append(span(\n",
              "        `(${file.type || 'n/a'}) - ${file.size} bytes, ` +\n",
              "        `last modified: ${\n",
              "            file.lastModifiedDate ? file.lastModifiedDate.toLocaleDateString() :\n",
              "                                    'n/a'} - `));\n",
              "    const percent = span('0% done');\n",
              "    li.appendChild(percent);\n",
              "\n",
              "    outputElement.appendChild(li);\n",
              "\n",
              "    const fileDataPromise = new Promise((resolve) => {\n",
              "      const reader = new FileReader();\n",
              "      reader.onload = (e) => {\n",
              "        resolve(e.target.result);\n",
              "      };\n",
              "      reader.readAsArrayBuffer(file);\n",
              "    });\n",
              "    // Wait for the data to be ready.\n",
              "    let fileData = yield {\n",
              "      promise: fileDataPromise,\n",
              "      response: {\n",
              "        action: 'continue',\n",
              "      }\n",
              "    };\n",
              "\n",
              "    // Use a chunked sending to avoid message size limits. See b/62115660.\n",
              "    let position = 0;\n",
              "    do {\n",
              "      const length = Math.min(fileData.byteLength - position, MAX_PAYLOAD_SIZE);\n",
              "      const chunk = new Uint8Array(fileData, position, length);\n",
              "      position += length;\n",
              "\n",
              "      const base64 = btoa(String.fromCharCode.apply(null, chunk));\n",
              "      yield {\n",
              "        response: {\n",
              "          action: 'append',\n",
              "          file: file.name,\n",
              "          data: base64,\n",
              "        },\n",
              "      };\n",
              "\n",
              "      let percentDone = fileData.byteLength === 0 ?\n",
              "          100 :\n",
              "          Math.round((position / fileData.byteLength) * 100);\n",
              "      percent.textContent = `${percentDone}% done`;\n",
              "\n",
              "    } while (position < fileData.byteLength);\n",
              "  }\n",
              "\n",
              "  // All done.\n",
              "  yield {\n",
              "    response: {\n",
              "      action: 'complete',\n",
              "    }\n",
              "  };\n",
              "}\n",
              "\n",
              "scope.google = scope.google || {};\n",
              "scope.google.colab = scope.google.colab || {};\n",
              "scope.google.colab._files = {\n",
              "  _uploadFiles,\n",
              "  _uploadFilesContinue,\n",
              "};\n",
              "})(self);\n",
              "</script> "
            ]
          },
          "metadata": {}
        },
        {
          "output_type": "stream",
          "name": "stdout",
          "text": [
            "🧪 Using synthetic data\n",
            "✅ Generated 326 legal documents (expanded dataset)\n"
          ]
        }
      ]
    },
    {
      "cell_type": "code",
      "source": [
        "from transformers import GPT2Tokenizer, GPT2ForSequenceClassification\n",
        "import torch\n",
        "\n",
        "tokenizer = GPT2Tokenizer.from_pretrained('gpt2')\n",
        "tokenizer.pad_token = tokenizer.eos_token\n",
        "\n",
        "model = GPT2ForSequenceClassification.from_pretrained('gpt2', num_labels=3)\n",
        "device = torch.device(\"cuda\" if torch.cuda.is_available() else \"cpu\")\n",
        "model = model.to(device)\n",
        "model.config.pad_token_id = model.config.eos_token_id\n",
        "\n",
        "print(f\"🚀 Model moved to: {device}\")\n",
        "print(\"🚀 GPT-2 model loaded\")\n"
      ],
      "metadata": {
        "colab": {
          "base_uri": "https://localhost:8080/",
          "height": 509,
          "referenced_widgets": [
            "ca8e971e35c8461f918e110c5dd749cf",
            "bec983bb6ba14c368226ce80076553ba",
            "276ba1329eb04b47838445dd12b38383",
            "3f291cda8c0e491fb561970887f645d9",
            "1b01241eefa14756b1eca55db3398edd",
            "b46dff3926ab48b494a9263ad05377f1",
            "89deb3f26b3f4be18a54ccbe68712d83",
            "79a294985d924065b99f3a5dbeacaf4d",
            "bf608048ab4d4d268f08814916c17376",
            "896dcdfae3564a81915f831c9a2926d0",
            "0afff5f18c104a72b7f0701fe732675c",
            "93b7b132e13948a7ba5dbb7b414d1b81",
            "6df07ca4e4804430a8b528de459d96cc",
            "61075e9c49c046fe97570377a5b26aea",
            "83c05632e4d34c3f949249ffc3ede5c7",
            "3e9606873a134953ac0eafe1c64f2b81",
            "aac7c8c5aff44520a1e8c2886e3e8490",
            "4c4da8e880a24d10a0e2159b4e1839a5",
            "e73b1996fd634dc4bdedc6daf48c6e06",
            "4a9f6174f06b44b5b3e926d08ea08b35",
            "2eae7eee4b2f444c9bb67b8917e61b71",
            "8df469d844054144938aad1a0e1ec8f0",
            "d7a9d7aecc504834bb8e6048752c0892",
            "3d649bb20d0d49faa40fd6bda2364fc3",
            "cb523d7de33a4d33991ddfb5fdbcaa0b",
            "14bd5809c95a48568200f710306f76c3",
            "fbb3c2b30db64db6812a6f7f94ebf93c",
            "a2111206ac74430c8834d5d08328000b",
            "ed819d54bb2d47ee81ff6b38ae3f4dbc",
            "d86fc2feb57b4e68856d9d9f12c99bdc",
            "4d0f67256c494f97b9242078facf2a05",
            "6c10870fb8c84fafa235f0d9cb522301",
            "88eda18514a246f48a8b1d58123ea350",
            "21ce120dd39c45a78899d58168dc8a9e",
            "6c1b0a24af45430ba7a837bc62e230b0",
            "36da40cc3f6a44b18e2db6a8ab5a5bdc",
            "fa391b7a95be45e6805ecd8ce909c0d7",
            "8d8674742eac4cc082c33c204084bb72",
            "71ec4b75fa2a4e8594be30991f97a486",
            "8d4052c477f24f77bb105e2c1d407dd5",
            "f8ad2c83cf72499581ca40ab419a6572",
            "3beb3f5dcc16474a86253357b27961f5",
            "d50193834c614aa891283b891cb54828",
            "f6cd3c1bd93c49c881b385fcf2d02d49",
            "1e4bd5bdc6ae482bb3c98490e465be98",
            "ed10054056e04bb1962fa636eb50bbab",
            "4ff02c3997a24f9a8797a8891e0bc778",
            "18c1ebd05ea9444b8372006fb8469a80",
            "90ef40f1c14d40789c0b0f0b9355f5eb",
            "1636eb6aa62144ab9c156bc280a792af",
            "4d5fc04e8c0d46d8bd7fa618b3084b2a",
            "091aeaa9dc344777a09cde205d0e32e8",
            "f9d3dbdb34a34ed4ac755800529d1d79",
            "278f2ff52aa94792bc8eeb980fd9ced5",
            "405a3500e74744089e9e3604c6761078"
          ]
        },
        "id": "_Q4Ob7BIun0K",
        "outputId": "798e41fc-3455-4c5a-e95e-40c087e7baef"
      },
      "execution_count": null,
      "outputs": [
        {
          "output_type": "stream",
          "name": "stderr",
          "text": [
            "/usr/local/lib/python3.11/dist-packages/huggingface_hub/file_download.py:943: FutureWarning: `resume_download` is deprecated and will be removed in version 1.0.0. Downloads always resume when possible. If you want to force a new download, use `force_download=True`.\n",
            "  warnings.warn(\n",
            "/usr/local/lib/python3.11/dist-packages/huggingface_hub/utils/_auth.py:94: UserWarning: \n",
            "The secret `HF_TOKEN` does not exist in your Colab secrets.\n",
            "To authenticate with the Hugging Face Hub, create a token in your settings tab (https://huggingface.co/settings/tokens), set it as secret in your Google Colab and restart your session.\n",
            "You will be able to reuse this secret in all of your notebooks.\n",
            "Please note that authentication is recommended but still optional to access public models or datasets.\n",
            "  warnings.warn(\n"
          ]
        },
        {
          "output_type": "display_data",
          "data": {
            "text/plain": [
              "vocab.json:   0%|          | 0.00/1.04M [00:00<?, ?B/s]"
            ],
            "application/vnd.jupyter.widget-view+json": {
              "version_major": 2,
              "version_minor": 0,
              "model_id": "ca8e971e35c8461f918e110c5dd749cf"
            }
          },
          "metadata": {}
        },
        {
          "output_type": "stream",
          "name": "stderr",
          "text": [
            "/usr/local/lib/python3.11/dist-packages/huggingface_hub/file_download.py:943: FutureWarning: `resume_download` is deprecated and will be removed in version 1.0.0. Downloads always resume when possible. If you want to force a new download, use `force_download=True`.\n",
            "  warnings.warn(\n"
          ]
        },
        {
          "output_type": "display_data",
          "data": {
            "text/plain": [
              "merges.txt:   0%|          | 0.00/456k [00:00<?, ?B/s]"
            ],
            "application/vnd.jupyter.widget-view+json": {
              "version_major": 2,
              "version_minor": 0,
              "model_id": "93b7b132e13948a7ba5dbb7b414d1b81"
            }
          },
          "metadata": {}
        },
        {
          "output_type": "stream",
          "name": "stderr",
          "text": [
            "/usr/local/lib/python3.11/dist-packages/huggingface_hub/file_download.py:943: FutureWarning: `resume_download` is deprecated and will be removed in version 1.0.0. Downloads always resume when possible. If you want to force a new download, use `force_download=True`.\n",
            "  warnings.warn(\n"
          ]
        },
        {
          "output_type": "display_data",
          "data": {
            "text/plain": [
              "tokenizer_config.json:   0%|          | 0.00/26.0 [00:00<?, ?B/s]"
            ],
            "application/vnd.jupyter.widget-view+json": {
              "version_major": 2,
              "version_minor": 0,
              "model_id": "d7a9d7aecc504834bb8e6048752c0892"
            }
          },
          "metadata": {}
        },
        {
          "output_type": "stream",
          "name": "stderr",
          "text": [
            "/usr/local/lib/python3.11/dist-packages/huggingface_hub/file_download.py:943: FutureWarning: `resume_download` is deprecated and will be removed in version 1.0.0. Downloads always resume when possible. If you want to force a new download, use `force_download=True`.\n",
            "  warnings.warn(\n"
          ]
        },
        {
          "output_type": "display_data",
          "data": {
            "text/plain": [
              "config.json:   0%|          | 0.00/665 [00:00<?, ?B/s]"
            ],
            "application/vnd.jupyter.widget-view+json": {
              "version_major": 2,
              "version_minor": 0,
              "model_id": "21ce120dd39c45a78899d58168dc8a9e"
            }
          },
          "metadata": {}
        },
        {
          "output_type": "display_data",
          "data": {
            "text/plain": [
              "model.safetensors:   0%|          | 0.00/548M [00:00<?, ?B/s]"
            ],
            "application/vnd.jupyter.widget-view+json": {
              "version_major": 2,
              "version_minor": 0,
              "model_id": "1e4bd5bdc6ae482bb3c98490e465be98"
            }
          },
          "metadata": {}
        },
        {
          "output_type": "stream",
          "name": "stderr",
          "text": [
            "Some weights of GPT2ForSequenceClassification were not initialized from the model checkpoint at gpt2 and are newly initialized: ['score.weight']\n",
            "You should probably TRAIN this model on a down-stream task to be able to use it for predictions and inference.\n"
          ]
        },
        {
          "output_type": "stream",
          "name": "stdout",
          "text": [
            "🚀 Model moved to: cuda\n",
            "🚀 GPT-2 model loaded\n"
          ]
        }
      ]
    },
    {
      "cell_type": "code",
      "source": [
        "from sklearn.model_selection import train_test_split\n",
        "from torch.utils.data import Dataset\n",
        "\n",
        "df[\"label\"] = df[\"true_sentiment\"].map({\"negative\": 0, \"neutral\": 1, \"positive\": 2})\n",
        "train_df, test_df = train_test_split(df, test_size=0.2, random_state=42)\n",
        "\n",
        "def tokenize_function(texts):\n",
        "    return tokenizer(texts, padding=\"max_length\", truncation=True, max_length=128)\n",
        "\n",
        "train_encodings = tokenize_function(train_df[\"text\"].tolist())\n",
        "test_encodings = tokenize_function(test_df[\"text\"].tolist())\n",
        "\n",
        "class LegalDataset(Dataset):\n",
        "    def __init__(self, encodings, labels):\n",
        "        self.encodings = encodings\n",
        "        self.labels = labels\n",
        "\n",
        "    def __getitem__(self, idx):\n",
        "        item = {key: torch.tensor(val[idx]) for key, val in self.encodings.items()}\n",
        "        item[\"labels\"] = torch.tensor(self.labels.iloc[idx])\n",
        "        return item\n",
        "\n",
        "    def __len__(self):\n",
        "        return len(self.labels)\n",
        "\n",
        "train_dataset = LegalDataset(train_encodings, train_df[\"label\"])\n",
        "test_dataset = LegalDataset(test_encodings, test_df[\"label\"])\n",
        "\n",
        "# Step 5: Configure training (wandb disabled)\n",
        "from transformers import Trainer, TrainingArguments\n",
        "import os\n",
        "\n",
        "os.environ[\"WANDB_DISABLED\"] = \"true\"\n",
        "\n",
        "training_args = TrainingArguments(\n",
        "    output_dir=\"./results\",\n",
        "    num_train_epochs=3,\n",
        "    per_device_train_batch_size=4,\n",
        "    per_device_eval_batch_size=4,\n",
        "    save_steps=500,\n",
        "    logging_steps=10,\n",
        "    logging_dir=\"./logs\",\n",
        "    report_to=\"none\"\n",
        ")\n",
        "\n",
        "def compute_metrics(pred):\n",
        "    labels = pred.label_ids\n",
        "    preds = pred.predictions.argmax(-1)\n",
        "    acc = (preds == labels).mean()\n",
        "    return {\"accuracy\": acc}\n",
        "\n",
        "trainer = Trainer(\n",
        "    model=model,\n",
        "    args=training_args,\n",
        "    train_dataset=train_dataset,\n",
        "    eval_dataset=test_dataset,\n",
        "    compute_metrics=compute_metrics\n",
        ")\n",
        "\n",
        "print(\"🔥 Starting training (no wandb)...\")\n",
        "trainer.train()\n",
        "print(\"✅ Training complete!\")"
      ],
      "metadata": {
        "colab": {
          "base_uri": "https://localhost:8080/",
          "height": 761
        },
        "id": "fsZIhRo9uvwS",
        "outputId": "82c4d8e5-cac7-41ba-e943-26478dd3948d"
      },
      "execution_count": null,
      "outputs": [
        {
          "output_type": "stream",
          "name": "stdout",
          "text": [
            "🔥 Starting training (no wandb)...\n"
          ]
        },
        {
          "output_type": "stream",
          "name": "stderr",
          "text": [
            "/usr/local/lib/python3.11/dist-packages/transformers/optimization.py:391: FutureWarning: This implementation of AdamW is deprecated and will be removed in a future version. Use the PyTorch implementation torch.optim.AdamW instead, or set `no_deprecation_warning=True` to disable this warning\n",
            "  warnings.warn(\n"
          ]
        },
        {
          "output_type": "display_data",
          "data": {
            "text/plain": [
              "<IPython.core.display.HTML object>"
            ],
            "text/html": [
              "\n",
              "    <div>\n",
              "      \n",
              "      <progress value='195' max='195' style='width:300px; height:20px; vertical-align: middle;'></progress>\n",
              "      [195/195 00:27, Epoch 3/3]\n",
              "    </div>\n",
              "    <table border=\"1\" class=\"dataframe\">\n",
              "  <thead>\n",
              " <tr style=\"text-align: left;\">\n",
              "      <th>Step</th>\n",
              "      <th>Training Loss</th>\n",
              "    </tr>\n",
              "  </thead>\n",
              "  <tbody>\n",
              "    <tr>\n",
              "      <td>10</td>\n",
              "      <td>1.277500</td>\n",
              "    </tr>\n",
              "    <tr>\n",
              "      <td>20</td>\n",
              "      <td>0.499300</td>\n",
              "    </tr>\n",
              "    <tr>\n",
              "      <td>30</td>\n",
              "      <td>0.293500</td>\n",
              "    </tr>\n",
              "    <tr>\n",
              "      <td>40</td>\n",
              "      <td>0.194300</td>\n",
              "    </tr>\n",
              "    <tr>\n",
              "      <td>50</td>\n",
              "      <td>0.180400</td>\n",
              "    </tr>\n",
              "    <tr>\n",
              "      <td>60</td>\n",
              "      <td>0.008500</td>\n",
              "    </tr>\n",
              "    <tr>\n",
              "      <td>70</td>\n",
              "      <td>0.002200</td>\n",
              "    </tr>\n",
              "    <tr>\n",
              "      <td>80</td>\n",
              "      <td>0.000400</td>\n",
              "    </tr>\n",
              "    <tr>\n",
              "      <td>90</td>\n",
              "      <td>0.000900</td>\n",
              "    </tr>\n",
              "    <tr>\n",
              "      <td>100</td>\n",
              "      <td>0.000400</td>\n",
              "    </tr>\n",
              "    <tr>\n",
              "      <td>110</td>\n",
              "      <td>0.000200</td>\n",
              "    </tr>\n",
              "    <tr>\n",
              "      <td>120</td>\n",
              "      <td>0.004300</td>\n",
              "    </tr>\n",
              "    <tr>\n",
              "      <td>130</td>\n",
              "      <td>0.039100</td>\n",
              "    </tr>\n",
              "    <tr>\n",
              "      <td>140</td>\n",
              "      <td>0.000300</td>\n",
              "    </tr>\n",
              "    <tr>\n",
              "      <td>150</td>\n",
              "      <td>0.000100</td>\n",
              "    </tr>\n",
              "    <tr>\n",
              "      <td>160</td>\n",
              "      <td>0.000200</td>\n",
              "    </tr>\n",
              "    <tr>\n",
              "      <td>170</td>\n",
              "      <td>0.000100</td>\n",
              "    </tr>\n",
              "    <tr>\n",
              "      <td>180</td>\n",
              "      <td>0.000100</td>\n",
              "    </tr>\n",
              "    <tr>\n",
              "      <td>190</td>\n",
              "      <td>0.000300</td>\n",
              "    </tr>\n",
              "  </tbody>\n",
              "</table><p>"
            ]
          },
          "metadata": {}
        },
        {
          "output_type": "stream",
          "name": "stdout",
          "text": [
            "✅ Training complete!\n"
          ]
        }
      ]
    },
    {
      "cell_type": "code",
      "source": [
        "def analyze_sentiment(text):\n",
        "    inputs = tokenizer(text, return_tensors=\"pt\", truncation=True, max_length=128).to(device)\n",
        "    with torch.no_grad():\n",
        "        outputs = model(**inputs)\n",
        "    prediction = torch.argmax(outputs.logits).item()\n",
        "    return [\"negative\", \"neutral\", \"positive\"][prediction]"
      ],
      "metadata": {
        "id": "Hh4YfswHvYlu"
      },
      "execution_count": null,
      "outputs": []
    },
    {
      "cell_type": "code",
      "source": [
        "sample_text = \"The court granted the plaintiff's motion for summary judgment.\"\n",
        "print(f\"\\nSample analysis:\\nText: {sample_text}\\nSentiment: {analyze_sentiment(sample_text)}\")\n",
        "\n",
        "df[\"predicted_sentiment\"] = df[\"text\"].apply(analyze_sentiment)\n",
        "print(\"\\n📊 Sentiment Distribution:\")\n",
        "print(df[\"predicted_sentiment\"].value_counts())"
      ],
      "metadata": {
        "colab": {
          "base_uri": "https://localhost:8080/"
        },
        "id": "bYJlDNKTvbuk",
        "outputId": "a589ffc1-9fed-452d-e598-c2dd184df6e7"
      },
      "execution_count": null,
      "outputs": [
        {
          "output_type": "stream",
          "name": "stdout",
          "text": [
            "\n",
            "Sample analysis:\n",
            "Text: The court granted the plaintiff's motion for summary judgment.\n",
            "Sentiment: positive\n",
            "\n",
            "📊 Sentiment Distribution:\n",
            "predicted_sentiment\n",
            "neutral     139\n",
            "positive    107\n",
            "negative     80\n",
            "Name: count, dtype: int64\n"
          ]
        }
      ]
    }
  ]
}